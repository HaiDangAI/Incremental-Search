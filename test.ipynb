{
 "cells": [
  {
   "cell_type": "code",
   "execution_count": 8,
   "metadata": {},
   "outputs": [
    {
     "name": "stdout",
     "output_type": "stream",
     "text": [
      "[[2, 5], [4], [7, 1], [3], [8]]\n",
      "Number of bins required in Next Fit : 5\n"
     ]
    }
   ],
   "source": [
    "# Python3 implementation for above approach\n",
    "def nextfit(weight, c):\n",
    "    res = 0\n",
    "    rem = c\n",
    "    binsItem = []\n",
    "    items = []\n",
    "    for _ in range(len(weight)):\n",
    "        if rem >= weight[_]:\n",
    "            rem = rem - weight[_]\n",
    "            items.append(weight[_])\n",
    "        else:\n",
    "            binsItem.append(items)\n",
    "            res += 1\n",
    "            items = []\n",
    "            rem = c - weight[_]\n",
    "            items.append(weight[_])\n",
    "            if _ == len(weight)-1: \n",
    "                res += 1\n",
    "                binsItem.append(items)\n",
    "    print(binsItem)\n",
    "    return res\n",
    "\n",
    "# Driver Code\n",
    "weight = [2, 5, 4, 7, 1, 3, 8]\n",
    "c = 10\n",
    "\n",
    "print(\"Number of bins required in Next Fit :\",\n",
    "\t\t\t\t\t\tnextfit(weight, c))\n",
    "\n",
    "# This code is contributed by code_freak\n"
   ]
  },
  {
   "cell_type": "code",
   "execution_count": 14,
   "metadata": {},
   "outputs": [
    {
     "name": "stdout",
     "output_type": "stream",
     "text": [
      "[[], [2, 5], [4], [7, 1, 3]]\n",
      "Number of bins required in First Fit :  4\n"
     ]
    }
   ],
   "source": [
    "# Python program to find number of bins required using\n",
    "# First Fit algorithm.\n",
    "\n",
    "# Returns number of bins required using first fit\n",
    "# online algorithm\n",
    "def firstFit(weight, n, c):\n",
    "\n",
    "    # Initialize result (Count of bins)\n",
    "    res = 0\n",
    "\n",
    "    # Create an array to store remaining space in bins\n",
    "    # there can be at most n bins\n",
    "    bin_rem = [0]*n\n",
    "    binItem = []\n",
    "    items = []\n",
    "\n",
    "\n",
    "    # Place items one by one\n",
    "    for i in range(n):\n",
    "\n",
    "        # Find the first bin that can accommodate\n",
    "        # weight[i]\n",
    "        j = 0\n",
    "        while( j < res):\n",
    "            if (bin_rem[j] >= weight[i]):\n",
    "                bin_rem[j] = bin_rem[j] - weight[i]\n",
    "                items.append(weight[i])\n",
    "                break\n",
    "            j+=1\n",
    "            \n",
    "        # If no bin could accommodate weight[i]\n",
    "        if (j == res):\n",
    "            binItem.append(items)\n",
    "            bin_rem[res] = c - weight[i]\n",
    "            items = [weight[i]]\n",
    "            res= res+1\n",
    "    print(binItem)\n",
    "    return res\n",
    "\t\n",
    "# Driver program\n",
    "weight = [2, 5, 4, 7, 1, 3, 8]\n",
    "c = 10\n",
    "n = len(weight)\n",
    "print(\"Number of bins required in First Fit : \",firstFit(weight, n, c))\n",
    "\n",
    "# This code is contributed by shubhamsingh10\n"
   ]
  },
  {
   "cell_type": "code",
   "execution_count": 1,
   "metadata": {},
   "outputs": [
    {
     "name": "stdout",
     "output_type": "stream",
     "text": [
      "Number of bins required in First Fit :  4\n"
     ]
    }
   ],
   "source": [
    "# Python3 program to find number\n",
    "# of bins required using\n",
    "# First Fit algorithm.\n",
    "\n",
    "# Returns number of bins required\n",
    "# using first fit\n",
    "# online algorithm\n",
    "def firstFit(weight, n, c):\n",
    "\t\n",
    "\t# Initialize result (Count of bins)\n",
    "\tres = 0;\n",
    "\n",
    "\t# Create an array to store\n",
    "\t# remaining space in bins\n",
    "\t# there can be at most n bins\n",
    "\tbin_rem = [0]*n;\n",
    "\n",
    "\t# Place items one by one\n",
    "\tfor i in range(n):\n",
    "\t\t\n",
    "\t\t# Find the first bin that\n",
    "\t\t# can accommodate\n",
    "\t\t# weight[i]\n",
    "\t\tj = 0;\n",
    "\t\t\n",
    "\t\t# Initialize minimum space\n",
    "\t\t# left and index\n",
    "\t\t# of best bin\n",
    "\t\tmin = c + 1;\n",
    "\t\tbi = 0;\n",
    "\n",
    "\t\tfor j in range(res):\n",
    "\t\t\tif (bin_rem[j] >= weight[i] and bin_rem[j] -\n",
    "\t\t\t\t\t\t\t\t\tweight[i] < min):\n",
    "\t\t\t\tbi = j;\n",
    "\t\t\t\tmin = bin_rem[j] - weight[i];\n",
    "\t\t\t\n",
    "\t\t# If no bin could accommodate weight[i],\n",
    "\t\t# create a new bin\n",
    "\t\tif (min == c + 1):\n",
    "\t\t\tbin_rem[res] = c - weight[i];\n",
    "\t\t\tres += 1;\n",
    "\t\telse: # Assign the item to best bin\n",
    "\t\t\tbin_rem[bi] -= weight[i];\n",
    "\treturn res;\n",
    "\n",
    "# Driver code\n",
    "if __name__ == '__main__':\n",
    "\tweight = [ 2, 5, 4, 7, 1, 3, 8 ];\n",
    "\tc = 10;\n",
    "\tn = len(weight);\n",
    "\tprint(\"Number of bins required in First Fit : \",\n",
    "\t\t\t\t\t\t\tfirstFit(weight, n, c));\n",
    "\t\n",
    "# This code is contributed by Rajput-Ji\n"
   ]
  },
  {
   "cell_type": "code",
   "execution_count": 2,
   "metadata": {},
   "outputs": [
    {
     "name": "stdout",
     "output_type": "stream",
     "text": [
      "Number of bins required in First Fit :  4\n"
     ]
    }
   ],
   "source": [
    "# Python3 program to find number\n",
    "# of bins required using\n",
    "# First Fit algorithm.\n",
    "\n",
    "# Returns number of bins required\n",
    "# using first fit\n",
    "# online algorithm\n",
    "def firstFit(weight, n, c):\n",
    "\t\n",
    "\t# Initialize result (Count of bins)\n",
    "\tres = 0;\n",
    "\n",
    "\t# Create an array to store\n",
    "\t# remaining space in bins\n",
    "\t# there can be at most n bins\n",
    "\tbin_rem = [0]*n;\n",
    "\n",
    "\t# Place items one by one\n",
    "\tfor i in range(n):\n",
    "\t\t\n",
    "\t\t# Find the first bin that\n",
    "\t\t# can accommodate\n",
    "\t\t# weight[i]\n",
    "\t\tj = 0;\n",
    "\t\t\n",
    "\t\t# Initialize minimum space\n",
    "\t\t# left and index\n",
    "\t\t# of best bin\n",
    "\t\tmin = c + 1;\n",
    "\t\tbi = 0;\n",
    "\n",
    "\t\tfor j in range(res):\n",
    "\t\t\tif (bin_rem[j] >= weight[i] and bin_rem[j] -\n",
    "\t\t\t\t\t\t\t\t\tweight[i] < min):\n",
    "\t\t\t\tbi = j;\n",
    "\t\t\t\tmin = bin_rem[j] - weight[i];\n",
    "\t\t\t\n",
    "\t\t# If no bin could accommodate weight[i],\n",
    "\t\t# create a new bin\n",
    "\t\tif (min == c + 1):\n",
    "\t\t\tbin_rem[res] = c - weight[i];\n",
    "\t\t\tres += 1;\n",
    "\t\telse: # Assign the item to best bin\n",
    "\t\t\tbin_rem[bi] -= weight[i];\n",
    "\treturn res;\n",
    "\n",
    "# Driver code\n",
    "if __name__ == '__main__':\n",
    "\tweight = [ 2, 5, 4, 7, 1, 3, 8 ];\n",
    "\tc = 10\n",
    "\tn = len(weight);\n",
    "\tprint(\"Number of bins required in First Fit : \",\n",
    "\t\t\t\t\t\t\tfirstFit(weight, n, c));\n",
    "\t\n",
    "# This code is contributed by Rajput-Ji\n"
   ]
  },
  {
   "cell_type": "code",
   "execution_count": 1,
   "metadata": {},
   "outputs": [
    {
     "name": "stdout",
     "output_type": "stream",
     "text": [
      "[1, 2, 3, 0, 0, 4, 5, 6, 0, 0, 0]\n",
      "[3, 0, 4, 0, 5, 0, 6]\n",
      "Length of LCS is  4\n",
      "[1, 3, 4, 6, 7, 8, 9]\n",
      "[1, 5, 4, 6, 7, 8, 9]\n",
      "Length of LCS is  7\n"
     ]
    }
   ],
   "source": [
    "# Dynamic Programming implementation of LCS problem\n",
    "\n",
    "def lcs(X, Y):\n",
    "\t# find the length of the strings\n",
    "\tm = len(X)\n",
    "\tn = len(Y)\n",
    "\tbX = [0]*len(X)\n",
    "\tbY = [0]*len(Y)\n",
    "\t# declaring the array for storing the dp values\n",
    "\tL = [[None]*(n + 1) for i in range(m + 1)]\n",
    "\n",
    "\t\"\"\"Following steps build L[m + 1][n + 1] in bottom up fashion\n",
    "\tNote: L[i][j] contains length of LCS of X[0..i-1]\n",
    "\tand Y[0..j-1]\"\"\"\n",
    "\tfor i in range(m + 1):\n",
    "\t\tfor j in range(n + 1):\n",
    "\t\t\tif i == 0 or j == 0 :\n",
    "\t\t\t\tL[i][j] = 0\n",
    "\t\t\telif X[i-1] == Y[j-1]:\n",
    "\t\t\t\tL[i][j] = L[i-1][j-1]+1\n",
    "\t\t\t\tbX[i-1] = max(bX) + 1\n",
    "\t\t\t\tbY[j-1] = max(bY) + 1\n",
    "\t\t\telse:\n",
    "\t\t\t\tL[i][j] = max(L[i-1][j], L[i][j-1])\n",
    "\n",
    "\t# L[m][n] contains the length of LCS of X[0..n-1] & Y[0..m-1]\n",
    "\tprint(bX)\n",
    "\tprint(bY)\n",
    "\treturn L[m][n]\n",
    "# end of function lcs\n",
    "\n",
    "\n",
    "# Driver program to test the above function\n",
    "X = \"AGGJJTABJHK\"\n",
    "Y = \"GXTXAYB\"\n",
    "Z = \"GXTXAYB\"\n",
    "print(\"Length of LCS is \", lcs(X, Y))\n",
    "print(\"Length of LCS is \", lcs(Z, Y))\n",
    "\n",
    "data = ['ABC', 'dsasfds', 'dsaa', 'GXTXAY']\n",
    "\n",
    "\n",
    "def dictLsc(listStr, str):\n",
    "    LscCounter = {}\n",
    "    for line in listStr:\n",
    "        LscCounter[line] = lcs(line.upper(), str.upper())\n",
    "    return LscCounter\n",
    "\n",
    "\n",
    "# dict(sorted(dictLsc(data, Y).items(), key=lambda item: item[1], reverse=True))\n"
   ]
  },
  {
   "cell_type": "code",
   "execution_count": 4,
   "metadata": {},
   "outputs": [
    {
     "name": "stdout",
     "output_type": "stream",
     "text": [
      "abcd abc abd ab acd ac ad a bcd bc bd b cd c d  [1, 2, 3, 0]\n",
      "[0, 1, 2, 0, 3]\n",
      "Length of LCS is  3\n"
     ]
    }
   ],
   "source": [
    "# Below is the implementation of the above approach\n",
    "def printSubsequence(input, output):\n",
    "\n",
    "\t# Base Case\n",
    "\t# if the input is empty print the output string\n",
    "\tif len(input) == 0:\n",
    "\t\tprint(output, end=' ')\n",
    "\t\treturn\n",
    "\n",
    "\t# output is passed with including the\n",
    "\t# 1st character of input string\n",
    "\tprintSubsequence(input[1:], output+input[0])\n",
    "\n",
    "\t# output is passed without including the\n",
    "\t# 1st character of input string\n",
    "\tprintSubsequence(input[1:], output)\n",
    "\n",
    "\n",
    "# Driver code\n",
    "# output is set to null before passing in\n",
    "# as a parameter\n",
    "output = \"\"\n",
    "input = \"abcd\"\n",
    "\n",
    "printSubsequence(input, output)\n",
    "\n",
    "print(\"Length of LCS is \", lcs(input, 'eabhc'))\n",
    "# This code is contributed by Tharun Reddy\n"
   ]
  },
  {
   "cell_type": "code",
   "execution_count": 16,
   "metadata": {},
   "outputs": [
    {
     "name": "stdout",
     "output_type": "stream",
     "text": [
      "[('a', 'a'), ('b', 'b'), ('c', 'c'), (' ', 'c'), (' ', 'd'), (' ', 'e')]\n"
     ]
    },
    {
     "data": {
      "text/plain": [
       "0.5"
      ]
     },
     "execution_count": 16,
     "metadata": {},
     "output_type": "execute_result"
    }
   ],
   "source": [
    "def similar(w1, w2):\n",
    "    w1 = w1 + ' ' * (len(w2) - len(w1))\n",
    "    w2 = w2 + ' ' * (len(w1) - len(w2))\n",
    "    print(list(zip(w1, w2)))\n",
    "    return sum(1 if i == j else 0 for i, j in zip(w1, w2)) / float(len(w1))"
   ]
  },
  {
   "cell_type": "code",
   "execution_count": 7,
   "metadata": {},
   "outputs": [
    {
     "name": "stdout",
     "output_type": "stream",
     "text": [
      "suggestion: abc\n",
      "suggestion: abc\n",
      "suggestion: abc\n"
     ]
    }
   ],
   "source": [
    "suggestion = 'abc'\n",
    "while True:\n",
    "    a = input('Enter string:')\n",
    "    if a == suggestion: break\n",
    "    print('suggestion: abc')"
   ]
  },
  {
   "cell_type": "code",
   "execution_count": 4,
   "metadata": {},
   "outputs": [
    {
     "data": {
      "text/plain": [
       "[('a', 'a'), ('b', 'b'), ('c', 'c'), (' ', 's')]"
      ]
     },
     "execution_count": 4,
     "metadata": {},
     "output_type": "execute_result"
    }
   ],
   "source": [
    "def tozip(*iterables):\n",
    "    sentinel = object()\n",
    "    iterators = [iter(it) for it in iterables]\n",
    "    while iterators:\n",
    "        result = []\n",
    "        for it in iterators:\n",
    "            elem = next(it, sentinel)\n",
    "            if elem is sentinel:\n",
    "                return\n",
    "            result.append(elem)\n",
    "        yield tuple(result)\n",
    "list(tozip('abc ','abcs'))"
   ]
  },
  {
   "cell_type": "code",
   "execution_count": 10,
   "metadata": {},
   "outputs": [
    {
     "name": "stdout",
     "output_type": "stream",
     "text": [
      "['I Love you', 'I like apple', 'Good Morning', 'Nice to meet you', 'Happy birthday', 'I comb my hair', 'I brush my teeth', 'My dad is my super hero', 'How are you?', 'What is your name?', 'May I come in?', 'I like my school.', 'I love my parents.', 'My dad is my super hero.', 'See you tomorrow.', 'May I come in?', 'How are you?', 'How old are you?', 'What is your Name?', 'The dog is happy.', 'That is a pencil.', 'It is very cold.', 'These are books.', 'It is ten o�clock.', 'Apple is good to eat.', 'Your dress looks very nice.', 'I open the door.', 'It is getting dark.', 'I want to eat.', 'Which is your favorite color?', 'I like to eat ice cream.', 'My favorite color is blue.', 'Apple is good for health.', 'Where are you from?', 'Which is your favorite subject?', 'My father is in his office.']\n"
     ]
    }
   ],
   "source": [
    "import pandas as pd\n",
    "\n",
    "df = pd.read_csv('simple sentences.csv')\n",
    "print(list(df['sentence']))"
   ]
  },
  {
   "cell_type": "code",
   "execution_count": 12,
   "metadata": {},
   "outputs": [
    {
     "name": "stdout",
     "output_type": "stream",
     "text": [
      "\u001b[31mhello\u001b[0m \u001b[32mworld\u001b[0m every one\n"
     ]
    }
   ],
   "source": [
    "from termcolor import colored\n",
    "print(colored('hello', 'red'), colored('world', 'green'), 'every one')"
   ]
  }
 ],
 "metadata": {
  "interpreter": {
   "hash": "14958d3aee5f1cad06795f787e54b96185c25fb40dfec723a5be941f3a531b8c"
  },
  "kernelspec": {
   "display_name": "Python 3.9.5 64-bit",
   "language": "python",
   "name": "python3"
  },
  "language_info": {
   "codemirror_mode": {
    "name": "ipython",
    "version": 3
   },
   "file_extension": ".py",
   "mimetype": "text/x-python",
   "name": "python",
   "nbconvert_exporter": "python",
   "pygments_lexer": "ipython3",
   "version": "3.9.5"
  },
  "orig_nbformat": 4
 },
 "nbformat": 4,
 "nbformat_minor": 2
}
